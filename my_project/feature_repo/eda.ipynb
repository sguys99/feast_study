{
 "cells": [
  {
   "cell_type": "code",
   "execution_count": null,
   "metadata": {},
   "outputs": [],
   "source": []
  },
  {
   "cell_type": "code",
   "execution_count": 1,
   "metadata": {},
   "outputs": [],
   "source": [
    "import numpy as np\n",
    "import pandas as pd"
   ]
  },
  {
   "cell_type": "code",
   "execution_count": 2,
   "metadata": {},
   "outputs": [],
   "source": [
    "df = pd.read_parquet(\"data/driver_stats.parquet\")"
   ]
  },
  {
   "cell_type": "code",
   "execution_count": 3,
   "metadata": {},
   "outputs": [
    {
     "data": {
      "text/html": [
       "<div>\n",
       "<style scoped>\n",
       "    .dataframe tbody tr th:only-of-type {\n",
       "        vertical-align: middle;\n",
       "    }\n",
       "\n",
       "    .dataframe tbody tr th {\n",
       "        vertical-align: top;\n",
       "    }\n",
       "\n",
       "    .dataframe thead th {\n",
       "        text-align: right;\n",
       "    }\n",
       "</style>\n",
       "<table border=\"1\" class=\"dataframe\">\n",
       "  <thead>\n",
       "    <tr style=\"text-align: right;\">\n",
       "      <th></th>\n",
       "      <th>event_timestamp</th>\n",
       "      <th>driver_id</th>\n",
       "      <th>conv_rate</th>\n",
       "      <th>acc_rate</th>\n",
       "      <th>avg_daily_trips</th>\n",
       "      <th>created</th>\n",
       "    </tr>\n",
       "  </thead>\n",
       "  <tbody>\n",
       "    <tr>\n",
       "      <th>0</th>\n",
       "      <td>2023-11-21 08:00:00+00:00</td>\n",
       "      <td>1005</td>\n",
       "      <td>0.335094</td>\n",
       "      <td>0.162989</td>\n",
       "      <td>351</td>\n",
       "      <td>2023-12-06 08:57:13.838</td>\n",
       "    </tr>\n",
       "    <tr>\n",
       "      <th>1</th>\n",
       "      <td>2023-11-21 09:00:00+00:00</td>\n",
       "      <td>1005</td>\n",
       "      <td>0.100321</td>\n",
       "      <td>0.105751</td>\n",
       "      <td>961</td>\n",
       "      <td>2023-12-06 08:57:13.838</td>\n",
       "    </tr>\n",
       "    <tr>\n",
       "      <th>2</th>\n",
       "      <td>2023-11-21 10:00:00+00:00</td>\n",
       "      <td>1005</td>\n",
       "      <td>0.664010</td>\n",
       "      <td>0.070998</td>\n",
       "      <td>780</td>\n",
       "      <td>2023-12-06 08:57:13.838</td>\n",
       "    </tr>\n",
       "    <tr>\n",
       "      <th>3</th>\n",
       "      <td>2023-11-21 11:00:00+00:00</td>\n",
       "      <td>1005</td>\n",
       "      <td>0.259892</td>\n",
       "      <td>0.082264</td>\n",
       "      <td>705</td>\n",
       "      <td>2023-12-06 08:57:13.838</td>\n",
       "    </tr>\n",
       "    <tr>\n",
       "      <th>4</th>\n",
       "      <td>2023-11-21 12:00:00+00:00</td>\n",
       "      <td>1005</td>\n",
       "      <td>0.505575</td>\n",
       "      <td>0.898033</td>\n",
       "      <td>830</td>\n",
       "      <td>2023-12-06 08:57:13.838</td>\n",
       "    </tr>\n",
       "  </tbody>\n",
       "</table>\n",
       "</div>"
      ],
      "text/plain": [
       "            event_timestamp  driver_id  conv_rate  acc_rate  avg_daily_trips  \\\n",
       "0 2023-11-21 08:00:00+00:00       1005   0.335094  0.162989              351   \n",
       "1 2023-11-21 09:00:00+00:00       1005   0.100321  0.105751              961   \n",
       "2 2023-11-21 10:00:00+00:00       1005   0.664010  0.070998              780   \n",
       "3 2023-11-21 11:00:00+00:00       1005   0.259892  0.082264              705   \n",
       "4 2023-11-21 12:00:00+00:00       1005   0.505575  0.898033              830   \n",
       "\n",
       "                  created  \n",
       "0 2023-12-06 08:57:13.838  \n",
       "1 2023-12-06 08:57:13.838  \n",
       "2 2023-12-06 08:57:13.838  \n",
       "3 2023-12-06 08:57:13.838  \n",
       "4 2023-12-06 08:57:13.838  "
      ]
     },
     "execution_count": 3,
     "metadata": {},
     "output_type": "execute_result"
    }
   ],
   "source": [
    "df.head()"
   ]
  },
  {
   "cell_type": "code",
   "execution_count": 4,
   "metadata": {},
   "outputs": [
    {
     "data": {
      "text/plain": [
       "(1807, 6)"
      ]
     },
     "execution_count": 4,
     "metadata": {},
     "output_type": "execute_result"
    }
   ],
   "source": [
    "df.shape"
   ]
  },
  {
   "cell_type": "code",
   "execution_count": null,
   "metadata": {},
   "outputs": [],
   "source": []
  }
 ],
 "metadata": {
  "kernelspec": {
   "display_name": "feast_study",
   "language": "python",
   "name": "python3"
  },
  "language_info": {
   "codemirror_mode": {
    "name": "ipython",
    "version": 3
   },
   "file_extension": ".py",
   "mimetype": "text/x-python",
   "name": "python",
   "nbconvert_exporter": "python",
   "pygments_lexer": "ipython3",
   "version": "3.11.5"
  }
 },
 "nbformat": 4,
 "nbformat_minor": 2
}
