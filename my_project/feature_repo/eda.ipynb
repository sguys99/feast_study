{
 "cells": [
  {
   "cell_type": "code",
   "execution_count": null,
   "metadata": {},
   "outputs": [],
   "source": []
  },
  {
   "cell_type": "code",
   "execution_count": 1,
   "metadata": {},
   "outputs": [],
   "source": [
    "import numpy as np\n",
    "import pandas as pd"
   ]
  },
  {
   "cell_type": "code",
   "execution_count": 2,
   "metadata": {},
   "outputs": [],
   "source": [
    "df = pd.read_parquet(\"data/driver_stats.parquet\")"
   ]
  },
  {
   "cell_type": "code",
   "execution_count": 3,
   "metadata": {},
   "outputs": [
    {
     "data": {
      "text/html": [
       "<div>\n",
       "<style scoped>\n",
       "    .dataframe tbody tr th:only-of-type {\n",
       "        vertical-align: middle;\n",
       "    }\n",
       "\n",
       "    .dataframe tbody tr th {\n",
       "        vertical-align: top;\n",
       "    }\n",
       "\n",
       "    .dataframe thead th {\n",
       "        text-align: right;\n",
       "    }\n",
       "</style>\n",
       "<table border=\"1\" class=\"dataframe\">\n",
       "  <thead>\n",
       "    <tr style=\"text-align: right;\">\n",
       "      <th></th>\n",
       "      <th>event_timestamp</th>\n",
       "      <th>driver_id</th>\n",
       "      <th>conv_rate</th>\n",
       "      <th>acc_rate</th>\n",
       "      <th>avg_daily_trips</th>\n",
       "      <th>created</th>\n",
       "    </tr>\n",
       "  </thead>\n",
       "  <tbody>\n",
       "    <tr>\n",
       "      <th>0</th>\n",
       "      <td>2023-11-21 08:00:00+00:00</td>\n",
       "      <td>1005</td>\n",
       "      <td>0.335094</td>\n",
       "      <td>0.162989</td>\n",
       "      <td>351</td>\n",
       "      <td>2023-12-06 08:57:13.838</td>\n",
       "    </tr>\n",
       "    <tr>\n",
       "      <th>1</th>\n",
       "      <td>2023-11-21 09:00:00+00:00</td>\n",
       "      <td>1005</td>\n",
       "      <td>0.100321</td>\n",
       "      <td>0.105751</td>\n",
       "      <td>961</td>\n",
       "      <td>2023-12-06 08:57:13.838</td>\n",
       "    </tr>\n",
       "    <tr>\n",
       "      <th>2</th>\n",
       "      <td>2023-11-21 10:00:00+00:00</td>\n",
       "      <td>1005</td>\n",
       "      <td>0.664010</td>\n",
       "      <td>0.070998</td>\n",
       "      <td>780</td>\n",
       "      <td>2023-12-06 08:57:13.838</td>\n",
       "    </tr>\n",
       "    <tr>\n",
       "      <th>3</th>\n",
       "      <td>2023-11-21 11:00:00+00:00</td>\n",
       "      <td>1005</td>\n",
       "      <td>0.259892</td>\n",
       "      <td>0.082264</td>\n",
       "      <td>705</td>\n",
       "      <td>2023-12-06 08:57:13.838</td>\n",
       "    </tr>\n",
       "    <tr>\n",
       "      <th>4</th>\n",
       "      <td>2023-11-21 12:00:00+00:00</td>\n",
       "      <td>1005</td>\n",
       "      <td>0.505575</td>\n",
       "      <td>0.898033</td>\n",
       "      <td>830</td>\n",
       "      <td>2023-12-06 08:57:13.838</td>\n",
       "    </tr>\n",
       "  </tbody>\n",
       "</table>\n",
       "</div>"
      ],
      "text/plain": [
       "            event_timestamp  driver_id  conv_rate  acc_rate  avg_daily_trips  \\\n",
       "0 2023-11-21 08:00:00+00:00       1005   0.335094  0.162989              351   \n",
       "1 2023-11-21 09:00:00+00:00       1005   0.100321  0.105751              961   \n",
       "2 2023-11-21 10:00:00+00:00       1005   0.664010  0.070998              780   \n",
       "3 2023-11-21 11:00:00+00:00       1005   0.259892  0.082264              705   \n",
       "4 2023-11-21 12:00:00+00:00       1005   0.505575  0.898033              830   \n",
       "\n",
       "                  created  \n",
       "0 2023-12-06 08:57:13.838  \n",
       "1 2023-12-06 08:57:13.838  \n",
       "2 2023-12-06 08:57:13.838  \n",
       "3 2023-12-06 08:57:13.838  \n",
       "4 2023-12-06 08:57:13.838  "
      ]
     },
     "execution_count": 3,
     "metadata": {},
     "output_type": "execute_result"
    }
   ],
   "source": [
    "df.head()"
   ]
  },
  {
   "cell_type": "code",
   "execution_count": 4,
   "metadata": {},
   "outputs": [
    {
     "data": {
      "text/plain": [
       "(1807, 6)"
      ]
     },
     "execution_count": 4,
     "metadata": {},
     "output_type": "execute_result"
    }
   ],
   "source": [
    "df.shape"
   ]
  },
  {
   "cell_type": "markdown",
   "metadata": {},
   "source": [
    "### Generating training data"
   ]
  },
  {
   "cell_type": "code",
   "execution_count": 5,
   "metadata": {},
   "outputs": [
    {
     "name": "stderr",
     "output_type": "stream",
     "text": [
      "/Users/sguys99/anaconda3/envs/feast_study/lib/python3.11/site-packages/dask/dataframe/_pyarrow_compat.py:23: UserWarning: You are using pyarrow version 11.0.0 which is known to be insecure. See https://www.cve.org/CVERecord?id=CVE-2023-47248 for further details. Please upgrade to pyarrow>=14.0.1 or install pyarrow-hotfix to patch your current version.\n",
      "  warnings.warn(\n"
     ]
    }
   ],
   "source": [
    "from datetime import datetime\n",
    "\n",
    "from feast import FeatureStore"
   ]
  },
  {
   "cell_type": "code",
   "execution_count": 6,
   "metadata": {},
   "outputs": [],
   "source": [
    "# Note: see https://docs.feast.dev/getting-started/concepts/feature-retrieval for \n",
    "# more details on how to retrieve for all entities in the offline store instead\n",
    "entity_df = pd.DataFrame.from_dict(\n",
    "    {\n",
    "        # entity's join key -> entity values\n",
    "        \"driver_id\": [1001, 1002, 1003],\n",
    "        # \"event_timestamp\" (reserved key) -> timestamps\n",
    "        \"event_timestamp\": [\n",
    "            datetime(2021, 4, 12, 10, 59, 42),\n",
    "            datetime(2021, 4, 12, 8, 12, 10),\n",
    "            datetime(2021, 4, 12, 16, 40, 26),\n",
    "        ],\n",
    "        # (optional) label name -> label values. Feast does not process these\n",
    "        \"label_driver_reported_satisfaction\": [1, 5, 3],\n",
    "        # values we're using for an on-demand transformation\n",
    "        \"val_to_add\": [1, 2, 3],\n",
    "        \"val_to_add_2\": [10, 20, 30],\n",
    "    }\n",
    ")"
   ]
  },
  {
   "cell_type": "code",
   "execution_count": 7,
   "metadata": {},
   "outputs": [
    {
     "data": {
      "text/html": [
       "<div>\n",
       "<style scoped>\n",
       "    .dataframe tbody tr th:only-of-type {\n",
       "        vertical-align: middle;\n",
       "    }\n",
       "\n",
       "    .dataframe tbody tr th {\n",
       "        vertical-align: top;\n",
       "    }\n",
       "\n",
       "    .dataframe thead th {\n",
       "        text-align: right;\n",
       "    }\n",
       "</style>\n",
       "<table border=\"1\" class=\"dataframe\">\n",
       "  <thead>\n",
       "    <tr style=\"text-align: right;\">\n",
       "      <th></th>\n",
       "      <th>driver_id</th>\n",
       "      <th>event_timestamp</th>\n",
       "      <th>label_driver_reported_satisfaction</th>\n",
       "      <th>val_to_add</th>\n",
       "      <th>val_to_add_2</th>\n",
       "    </tr>\n",
       "  </thead>\n",
       "  <tbody>\n",
       "    <tr>\n",
       "      <th>0</th>\n",
       "      <td>1001</td>\n",
       "      <td>2021-04-12 10:59:42</td>\n",
       "      <td>1</td>\n",
       "      <td>1</td>\n",
       "      <td>10</td>\n",
       "    </tr>\n",
       "    <tr>\n",
       "      <th>1</th>\n",
       "      <td>1002</td>\n",
       "      <td>2021-04-12 08:12:10</td>\n",
       "      <td>5</td>\n",
       "      <td>2</td>\n",
       "      <td>20</td>\n",
       "    </tr>\n",
       "    <tr>\n",
       "      <th>2</th>\n",
       "      <td>1003</td>\n",
       "      <td>2021-04-12 16:40:26</td>\n",
       "      <td>3</td>\n",
       "      <td>3</td>\n",
       "      <td>30</td>\n",
       "    </tr>\n",
       "  </tbody>\n",
       "</table>\n",
       "</div>"
      ],
      "text/plain": [
       "   driver_id     event_timestamp  label_driver_reported_satisfaction  \\\n",
       "0       1001 2021-04-12 10:59:42                                   1   \n",
       "1       1002 2021-04-12 08:12:10                                   5   \n",
       "2       1003 2021-04-12 16:40:26                                   3   \n",
       "\n",
       "   val_to_add  val_to_add_2  \n",
       "0           1            10  \n",
       "1           2            20  \n",
       "2           3            30  "
      ]
     },
     "execution_count": 7,
     "metadata": {},
     "output_type": "execute_result"
    }
   ],
   "source": [
    "entity_df"
   ]
  },
  {
   "cell_type": "code",
   "execution_count": 8,
   "metadata": {},
   "outputs": [],
   "source": [
    "store = FeatureStore(repo_path=\".\")"
   ]
  },
  {
   "cell_type": "code",
   "execution_count": 9,
   "metadata": {},
   "outputs": [
    {
     "data": {
      "text/plain": [
       "<feast.feature_store.FeatureStore at 0x17723ccd0>"
      ]
     },
     "execution_count": 9,
     "metadata": {},
     "output_type": "execute_result"
    }
   ],
   "source": [
    "store"
   ]
  },
  {
   "cell_type": "code",
   "execution_count": 12,
   "metadata": {},
   "outputs": [],
   "source": [
    "training_df = store.get_historical_features(\n",
    "    entity_df=entity_df,\n",
    "    features=[\n",
    "        \"driver_hourly_stats:conv_rate\",\n",
    "        \"driver_hourly_stats:acc_rate\",\n",
    "        \"driver_hourly_stats:avg_daily_trips\",\n",
    "        \"transformed_conv_rate:conv_rate_plus_val1\",\n",
    "        \"transformed_conv_rate:conv_rate_plus_val2\",\n",
    "    ],\n",
    ").to_df()"
   ]
  },
  {
   "cell_type": "code",
   "execution_count": 13,
   "metadata": {},
   "outputs": [
    {
     "data": {
      "text/html": [
       "<div>\n",
       "<style scoped>\n",
       "    .dataframe tbody tr th:only-of-type {\n",
       "        vertical-align: middle;\n",
       "    }\n",
       "\n",
       "    .dataframe tbody tr th {\n",
       "        vertical-align: top;\n",
       "    }\n",
       "\n",
       "    .dataframe thead th {\n",
       "        text-align: right;\n",
       "    }\n",
       "</style>\n",
       "<table border=\"1\" class=\"dataframe\">\n",
       "  <thead>\n",
       "    <tr style=\"text-align: right;\">\n",
       "      <th></th>\n",
       "      <th>driver_id</th>\n",
       "      <th>event_timestamp</th>\n",
       "      <th>label_driver_reported_satisfaction</th>\n",
       "      <th>val_to_add</th>\n",
       "      <th>val_to_add_2</th>\n",
       "      <th>conv_rate</th>\n",
       "      <th>acc_rate</th>\n",
       "      <th>avg_daily_trips</th>\n",
       "      <th>conv_rate_plus_val1</th>\n",
       "      <th>conv_rate_plus_val2</th>\n",
       "    </tr>\n",
       "  </thead>\n",
       "  <tbody>\n",
       "    <tr>\n",
       "      <th>0</th>\n",
       "      <td>1001</td>\n",
       "      <td>2021-04-12 10:59:42+00:00</td>\n",
       "      <td>1</td>\n",
       "      <td>1</td>\n",
       "      <td>10</td>\n",
       "      <td>0.214921</td>\n",
       "      <td>0.114345</td>\n",
       "      <td>603</td>\n",
       "      <td>1.214921</td>\n",
       "      <td>10.214921</td>\n",
       "    </tr>\n",
       "    <tr>\n",
       "      <th>1</th>\n",
       "      <td>1002</td>\n",
       "      <td>2021-04-12 08:12:10+00:00</td>\n",
       "      <td>5</td>\n",
       "      <td>2</td>\n",
       "      <td>20</td>\n",
       "      <td>0.689639</td>\n",
       "      <td>0.121157</td>\n",
       "      <td>471</td>\n",
       "      <td>2.689639</td>\n",
       "      <td>20.689639</td>\n",
       "    </tr>\n",
       "    <tr>\n",
       "      <th>2</th>\n",
       "      <td>1003</td>\n",
       "      <td>2021-04-12 16:40:26+00:00</td>\n",
       "      <td>3</td>\n",
       "      <td>3</td>\n",
       "      <td>30</td>\n",
       "      <td>0.259663</td>\n",
       "      <td>0.206803</td>\n",
       "      <td>458</td>\n",
       "      <td>3.259663</td>\n",
       "      <td>30.259663</td>\n",
       "    </tr>\n",
       "  </tbody>\n",
       "</table>\n",
       "</div>"
      ],
      "text/plain": [
       "   driver_id           event_timestamp  label_driver_reported_satisfaction  \\\n",
       "0       1001 2021-04-12 10:59:42+00:00                                   1   \n",
       "1       1002 2021-04-12 08:12:10+00:00                                   5   \n",
       "2       1003 2021-04-12 16:40:26+00:00                                   3   \n",
       "\n",
       "   val_to_add  val_to_add_2  conv_rate  acc_rate  avg_daily_trips  \\\n",
       "0           1            10   0.214921  0.114345              603   \n",
       "1           2            20   0.689639  0.121157              471   \n",
       "2           3            30   0.259663  0.206803              458   \n",
       "\n",
       "   conv_rate_plus_val1  conv_rate_plus_val2  \n",
       "0             1.214921            10.214921  \n",
       "1             2.689639            20.689639  \n",
       "2             3.259663            30.259663  "
      ]
     },
     "execution_count": 13,
     "metadata": {},
     "output_type": "execute_result"
    }
   ],
   "source": [
    "training_df"
   ]
  },
  {
   "cell_type": "markdown",
   "metadata": {},
   "source": [
    "\n",
    "### 추론"
   ]
  },
  {
   "cell_type": "code",
   "execution_count": 14,
   "metadata": {},
   "outputs": [],
   "source": [
    "from pprint import pprint\n",
    "from feast import FeatureStore"
   ]
  },
  {
   "cell_type": "code",
   "execution_count": 15,
   "metadata": {},
   "outputs": [],
   "source": [
    "\n",
    "store = FeatureStore(repo_path=\".\")"
   ]
  },
  {
   "cell_type": "code",
   "execution_count": 16,
   "metadata": {},
   "outputs": [],
   "source": [
    "feature_vector = store.get_online_features(\n",
    "    features=[\n",
    "        \"driver_hourly_stats:conv_rate\",\n",
    "        \"driver_hourly_stats:acc_rate\",\n",
    "        \"driver_hourly_stats:avg_daily_trips\",\n",
    "    ],\n",
    "    entity_rows=[\n",
    "        # {join_key: entity_value}\n",
    "        {\"driver_id\": 1004},\n",
    "        {\"driver_id\": 1005},\n",
    "    ],\n",
    ").to_dict()"
   ]
  },
  {
   "cell_type": "code",
   "execution_count": 17,
   "metadata": {},
   "outputs": [
    {
     "data": {
      "text/plain": [
       "{'driver_id': [1004, 1005],\n",
       " 'conv_rate': [0.6024051308631897, 0.7258734107017517],\n",
       " 'avg_daily_trips': [867, 150],\n",
       " 'acc_rate': [0.9690748453140259, 0.18905644118785858]}"
      ]
     },
     "execution_count": 17,
     "metadata": {},
     "output_type": "execute_result"
    }
   ],
   "source": [
    "feature_vector"
   ]
  },
  {
   "cell_type": "code",
   "execution_count": 18,
   "metadata": {},
   "outputs": [
    {
     "name": "stdout",
     "output_type": "stream",
     "text": [
      "{'acc_rate': [0.9690748453140259, 0.18905644118785858],\n",
      " 'avg_daily_trips': [867, 150],\n",
      " 'conv_rate': [0.6024051308631897, 0.7258734107017517],\n",
      " 'driver_id': [1004, 1005]}\n"
     ]
    }
   ],
   "source": [
    "pprint(feature_vector)"
   ]
  },
  {
   "cell_type": "markdown",
   "metadata": {},
   "source": [
    "### Step 3e: Using a feature service to fetch online features instead."
   ]
  },
  {
   "cell_type": "markdown",
   "metadata": {},
   "source": [
    "The driver_activity_v1 feature service pulls all features from the driver_hourly_stats feature view:"
   ]
  },
  {
   "cell_type": "code",
   "execution_count": 20,
   "metadata": {},
   "outputs": [],
   "source": [
    "from pprint import pprint\n",
    "from feast import FeatureStore"
   ]
  },
  {
   "cell_type": "code",
   "execution_count": 21,
   "metadata": {},
   "outputs": [],
   "source": [
    "feature_store = FeatureStore('.')  # Initialize the feature store\n",
    "\n",
    "feature_service = feature_store.get_feature_service(\"driver_activity_v1\")"
   ]
  },
  {
   "cell_type": "code",
   "execution_count": 23,
   "metadata": {},
   "outputs": [
    {
     "ename": "RequestDataNotFoundInEntityRowsException",
     "evalue": "Required request data source features ['val_to_add', 'val_to_add_2'] not found in the entity rows, but required by feature views",
     "output_type": "error",
     "traceback": [
      "\u001b[0;31m---------------------------------------------------------------------------\u001b[0m",
      "\u001b[0;31mRequestDataNotFoundInEntityRowsException\u001b[0m  Traceback (most recent call last)",
      "\u001b[1;32m/Users/sguys99/Desktop/project/feast_study/my_project/feature_repo/eda.ipynb 셀 24\u001b[0m line \u001b[0;36m6\n\u001b[1;32m      <a href='vscode-notebook-cell:/Users/sguys99/Desktop/project/feast_study/my_project/feature_repo/eda.ipynb#X42sZmlsZQ%3D%3D?line=2'>3</a>\u001b[0m feature_store \u001b[39m=\u001b[39m FeatureStore(\u001b[39m'\u001b[39m\u001b[39m.\u001b[39m\u001b[39m'\u001b[39m)  \u001b[39m# Initialize the feature store\u001b[39;00m\n\u001b[1;32m      <a href='vscode-notebook-cell:/Users/sguys99/Desktop/project/feast_study/my_project/feature_repo/eda.ipynb#X42sZmlsZQ%3D%3D?line=4'>5</a>\u001b[0m feature_service \u001b[39m=\u001b[39m feature_store\u001b[39m.\u001b[39mget_feature_service(\u001b[39m\"\u001b[39m\u001b[39mdriver_activity_v1\u001b[39m\u001b[39m\"\u001b[39m)\n\u001b[0;32m----> <a href='vscode-notebook-cell:/Users/sguys99/Desktop/project/feast_study/my_project/feature_repo/eda.ipynb#X42sZmlsZQ%3D%3D?line=5'>6</a>\u001b[0m feature_vector \u001b[39m=\u001b[39m feature_store\u001b[39m.\u001b[39;49mget_online_features(\n\u001b[1;32m      <a href='vscode-notebook-cell:/Users/sguys99/Desktop/project/feast_study/my_project/feature_repo/eda.ipynb#X42sZmlsZQ%3D%3D?line=6'>7</a>\u001b[0m     features\u001b[39m=\u001b[39;49mfeature_service,\n\u001b[1;32m      <a href='vscode-notebook-cell:/Users/sguys99/Desktop/project/feast_study/my_project/feature_repo/eda.ipynb#X42sZmlsZQ%3D%3D?line=7'>8</a>\u001b[0m     entity_rows\u001b[39m=\u001b[39;49m[\n\u001b[1;32m      <a href='vscode-notebook-cell:/Users/sguys99/Desktop/project/feast_study/my_project/feature_repo/eda.ipynb#X42sZmlsZQ%3D%3D?line=8'>9</a>\u001b[0m         \u001b[39m# {join_key: entity_value}\u001b[39;49;00m\n\u001b[1;32m     <a href='vscode-notebook-cell:/Users/sguys99/Desktop/project/feast_study/my_project/feature_repo/eda.ipynb#X42sZmlsZQ%3D%3D?line=9'>10</a>\u001b[0m         {\u001b[39m\"\u001b[39;49m\u001b[39mdriver_id\u001b[39;49m\u001b[39m\"\u001b[39;49m: \u001b[39m1004\u001b[39;49m},\n\u001b[1;32m     <a href='vscode-notebook-cell:/Users/sguys99/Desktop/project/feast_study/my_project/feature_repo/eda.ipynb#X42sZmlsZQ%3D%3D?line=10'>11</a>\u001b[0m         {\u001b[39m\"\u001b[39;49m\u001b[39mdriver_id\u001b[39;49m\u001b[39m\"\u001b[39;49m: \u001b[39m1005\u001b[39;49m},\n\u001b[1;32m     <a href='vscode-notebook-cell:/Users/sguys99/Desktop/project/feast_study/my_project/feature_repo/eda.ipynb#X42sZmlsZQ%3D%3D?line=11'>12</a>\u001b[0m     ],\n\u001b[1;32m     <a href='vscode-notebook-cell:/Users/sguys99/Desktop/project/feast_study/my_project/feature_repo/eda.ipynb#X42sZmlsZQ%3D%3D?line=12'>13</a>\u001b[0m )\u001b[39m.\u001b[39mto_dict()\n\u001b[1;32m     <a href='vscode-notebook-cell:/Users/sguys99/Desktop/project/feast_study/my_project/feature_repo/eda.ipynb#X42sZmlsZQ%3D%3D?line=13'>14</a>\u001b[0m pprint(feature_vector)\n",
      "File \u001b[0;32m~/anaconda3/envs/feast_study/lib/python3.11/site-packages/feast/usage.py:299\u001b[0m, in \u001b[0;36mlog_exceptions_and_usage.<locals>.decorator.<locals>.wrapper\u001b[0;34m(*args, **kwargs)\u001b[0m\n\u001b[1;32m    296\u001b[0m     ctx\u001b[39m.\u001b[39mtraceback \u001b[39m=\u001b[39m _trace_to_log(traceback)\n\u001b[1;32m    298\u001b[0m     \u001b[39mif\u001b[39;00m traceback:\n\u001b[0;32m--> 299\u001b[0m         \u001b[39mraise\u001b[39;00m exc\u001b[39m.\u001b[39mwith_traceback(traceback)\n\u001b[1;32m    301\u001b[0m     \u001b[39mraise\u001b[39;00m exc\n\u001b[1;32m    302\u001b[0m \u001b[39mfinally\u001b[39;00m:\n",
      "File \u001b[0;32m~/anaconda3/envs/feast_study/lib/python3.11/site-packages/feast/usage.py:288\u001b[0m, in \u001b[0;36mlog_exceptions_and_usage.<locals>.decorator.<locals>.wrapper\u001b[0;34m(*args, **kwargs)\u001b[0m\n\u001b[1;32m    285\u001b[0m ctx\u001b[39m.\u001b[39mattributes\u001b[39m.\u001b[39mupdate(attrs)\n\u001b[1;32m    287\u001b[0m \u001b[39mtry\u001b[39;00m:\n\u001b[0;32m--> 288\u001b[0m     \u001b[39mreturn\u001b[39;00m func(\u001b[39m*\u001b[39;49margs, \u001b[39m*\u001b[39;49m\u001b[39m*\u001b[39;49mkwargs)\n\u001b[1;32m    289\u001b[0m \u001b[39mexcept\u001b[39;00m \u001b[39mException\u001b[39;00m:\n\u001b[1;32m    290\u001b[0m     \u001b[39mif\u001b[39;00m ctx\u001b[39m.\u001b[39mexception:\n\u001b[1;32m    291\u001b[0m         \u001b[39m# exception was already recorded\u001b[39;00m\n",
      "File \u001b[0;32m~/anaconda3/envs/feast_study/lib/python3.11/site-packages/feast/feature_store.py:1583\u001b[0m, in \u001b[0;36mFeatureStore.get_online_features\u001b[0;34m(self, features, entity_rows, full_feature_names)\u001b[0m\n\u001b[1;32m   1580\u001b[0m         \u001b[39mexcept\u001b[39;00m \u001b[39mKeyError\u001b[39;00m \u001b[39mas\u001b[39;00m e:\n\u001b[1;32m   1581\u001b[0m             \u001b[39mraise\u001b[39;00m \u001b[39mValueError\u001b[39;00m(\u001b[39m\"\u001b[39m\u001b[39mAll entity_rows must have the same keys.\u001b[39m\u001b[39m\"\u001b[39m) \u001b[39mfrom\u001b[39;00m \u001b[39me\u001b[39;00m\n\u001b[0;32m-> 1583\u001b[0m \u001b[39mreturn\u001b[39;00m \u001b[39mself\u001b[39;49m\u001b[39m.\u001b[39;49m_get_online_features(\n\u001b[1;32m   1584\u001b[0m     features\u001b[39m=\u001b[39;49mfeatures,\n\u001b[1;32m   1585\u001b[0m     entity_values\u001b[39m=\u001b[39;49mcolumnar,\n\u001b[1;32m   1586\u001b[0m     full_feature_names\u001b[39m=\u001b[39;49mfull_feature_names,\n\u001b[1;32m   1587\u001b[0m     native_entity_values\u001b[39m=\u001b[39;49m\u001b[39mTrue\u001b[39;49;00m,\n\u001b[1;32m   1588\u001b[0m )\n",
      "File \u001b[0;32m~/anaconda3/envs/feast_study/lib/python3.11/site-packages/feast/feature_store.py:1703\u001b[0m, in \u001b[0;36mFeatureStore._get_online_features\u001b[0;34m(self, features, entity_values, full_feature_names, native_entity_values)\u001b[0m\n\u001b[1;32m   1700\u001b[0m         requested_result_row_names\u001b[39m.\u001b[39madd(join_key)\n\u001b[1;32m   1701\u001b[0m         join_key_values[join_key] \u001b[39m=\u001b[39m values\n\u001b[0;32m-> 1703\u001b[0m \u001b[39mself\u001b[39;49m\u001b[39m.\u001b[39;49mensure_request_data_values_exist(\n\u001b[1;32m   1704\u001b[0m     needed_request_data, needed_request_fv_features, request_data_features\n\u001b[1;32m   1705\u001b[0m )\n\u001b[1;32m   1707\u001b[0m \u001b[39m# Populate online features response proto with join keys and request data features\u001b[39;00m\n\u001b[1;32m   1708\u001b[0m online_features_response \u001b[39m=\u001b[39m GetOnlineFeaturesResponse(results\u001b[39m=\u001b[39m[])\n",
      "File \u001b[0;32m~/anaconda3/envs/feast_study/lib/python3.11/site-packages/feast/feature_store.py:1891\u001b[0m, in \u001b[0;36mFeatureStore.ensure_request_data_values_exist\u001b[0;34m(needed_request_data, needed_request_fv_features, request_data_features)\u001b[0m\n\u001b[1;32m   1881\u001b[0m \u001b[39mif\u001b[39;00m \u001b[39mlen\u001b[39m(needed_request_data) \u001b[39m+\u001b[39m \u001b[39mlen\u001b[39m(needed_request_fv_features) \u001b[39m!=\u001b[39m \u001b[39mlen\u001b[39m(\n\u001b[1;32m   1882\u001b[0m     request_data_features\u001b[39m.\u001b[39mkeys()\n\u001b[1;32m   1883\u001b[0m ):\n\u001b[1;32m   1884\u001b[0m     missing_features \u001b[39m=\u001b[39m [\n\u001b[1;32m   1885\u001b[0m         x\n\u001b[1;32m   1886\u001b[0m         \u001b[39mfor\u001b[39;00m x \u001b[39min\u001b[39;00m itertools\u001b[39m.\u001b[39mchain(\n\u001b[0;32m   (...)\u001b[0m\n\u001b[1;32m   1889\u001b[0m         \u001b[39mif\u001b[39;00m x \u001b[39mnot\u001b[39;00m \u001b[39min\u001b[39;00m request_data_features\n\u001b[1;32m   1890\u001b[0m     ]\n\u001b[0;32m-> 1891\u001b[0m     \u001b[39mraise\u001b[39;00m RequestDataNotFoundInEntityRowsException(\n\u001b[1;32m   1892\u001b[0m         feature_names\u001b[39m=\u001b[39mmissing_features\n\u001b[1;32m   1893\u001b[0m     )\n",
      "\u001b[0;31mRequestDataNotFoundInEntityRowsException\u001b[0m: Required request data source features ['val_to_add', 'val_to_add_2'] not found in the entity rows, but required by feature views"
     ]
    }
   ],
   "source": [
    "from pprint import pprint\n",
    "from feast import FeatureStore\n",
    "feature_store = FeatureStore('.')  # Initialize the feature store\n",
    "\n",
    "feature_service = feature_store.get_feature_service(\"driver_activity_v1\")\n",
    "feature_vector = feature_store.get_online_features(\n",
    "    features=feature_service,\n",
    "    entity_rows=[\n",
    "        # {join_key: entity_value}\n",
    "        {\"driver_id\": 1004},\n",
    "        {\"driver_id\": 1005},\n",
    "    ],\n",
    ").to_dict()\n",
    "pprint(feature_vector)"
   ]
  },
  {
   "cell_type": "markdown",
   "metadata": {},
   "source": [
    "- 다시"
   ]
  },
  {
   "cell_type": "markdown",
   "metadata": {},
   "source": []
  }
 ],
 "metadata": {
  "kernelspec": {
   "display_name": "feast_study",
   "language": "python",
   "name": "python3"
  },
  "language_info": {
   "codemirror_mode": {
    "name": "ipython",
    "version": 3
   },
   "file_extension": ".py",
   "mimetype": "text/x-python",
   "name": "python",
   "nbconvert_exporter": "python",
   "pygments_lexer": "ipython3",
   "version": "3.11.5"
  }
 },
 "nbformat": 4,
 "nbformat_minor": 2
}
